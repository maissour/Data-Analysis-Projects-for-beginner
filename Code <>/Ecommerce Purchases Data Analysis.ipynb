{
 "cells": [
  {
   "cell_type": "markdown",
   "id": "e03d60b1",
   "metadata": {},
   "source": [
    "<h1>Working on real Project with Python "
   ]
  },
  {
   "cell_type": "markdown",
   "id": "47d33891",
   "metadata": {},
   "source": [
    "<h2> Ecommerce Purchases DataSet"
   ]
  },
  {
   "cell_type": "code",
   "execution_count": 1,
   "id": "ade1289a",
   "metadata": {},
   "outputs": [],
   "source": [
    "import pandas as pd\n",
    "import numpy as np \n",
    "import matplotlib.pyplot as plt\n",
    "import seaborn as sns\n",
    "%matplotlib inline"
   ]
  },
  {
   "cell_type": "code",
   "execution_count": 2,
   "id": "b70fa4b7",
   "metadata": {},
   "outputs": [],
   "source": [
    "dt=pd.read_csv('your path of csv file')"
   ]
  },
  {
   "cell_type": "markdown",
   "id": "888d4bb6",
   "metadata": {},
   "source": [
    "<h4>The head and the shape of data"
   ]
  },
  {
   "cell_type": "code",
   "execution_count": 3,
   "id": "73eadb01",
   "metadata": {},
   "outputs": [
    {
     "data": {
      "text/plain": [
       "(10000, 14)"
      ]
     },
     "execution_count": 3,
     "metadata": {},
     "output_type": "execute_result"
    }
   ],
   "source": [
    "dt.shape"
   ]
  },
  {
   "cell_type": "code",
   "execution_count": 4,
   "id": "1d784f99",
   "metadata": {},
   "outputs": [
    {
     "data": {
      "text/html": [
       "<div><div id=95b5f4c1-c59a-4f8a-abc9-7ba987ae4923 style=\"display:none; background-color:#9D6CFF; color:white; width:200px; height:30px; padding-left:5px; border-radius:4px; flex-direction:row; justify-content:space-around; align-items:center;\" onmouseover=\"this.style.backgroundColor='#BA9BF8'\" onmouseout=\"this.style.backgroundColor='#9D6CFF'\" onclick=\"window.commands?.execute('create-mitosheet-from-dataframe-output');\">See Full Dataframe in Mito</div> <script> if (window.commands.hasCommand('create-mitosheet-from-dataframe-output')) document.getElementById('95b5f4c1-c59a-4f8a-abc9-7ba987ae4923').style.display = 'flex' </script> <table border=\"1\" class=\"dataframe\">\n",
       "  <thead>\n",
       "    <tr style=\"text-align: right;\">\n",
       "      <th></th>\n",
       "      <th>Address</th>\n",
       "      <th>Lot</th>\n",
       "      <th>AM or PM</th>\n",
       "      <th>Browser Info</th>\n",
       "      <th>Company</th>\n",
       "      <th>Credit Card</th>\n",
       "      <th>CC Exp Date</th>\n",
       "      <th>CC Security Code</th>\n",
       "      <th>CC Provider</th>\n",
       "      <th>Email</th>\n",
       "      <th>Job</th>\n",
       "      <th>IP Address</th>\n",
       "      <th>Language</th>\n",
       "      <th>Purchase Price</th>\n",
       "    </tr>\n",
       "  </thead>\n",
       "  <tbody>\n",
       "    <tr>\n",
       "      <th>0</th>\n",
       "      <td>16629 Pace Camp Apt. 448\\nAlexisborough, NE 77130-7478</td>\n",
       "      <td>46 in</td>\n",
       "      <td>PM</td>\n",
       "      <td>Opera/9.56.(X11; Linux x86_64; sl-SI) Presto/2.9.183 Version/12.00</td>\n",
       "      <td>Martinez-Herman</td>\n",
       "      <td>6011929061123406</td>\n",
       "      <td>02/20</td>\n",
       "      <td>900</td>\n",
       "      <td>JCB 16 digit</td>\n",
       "      <td>pdunlap@yahoo.com</td>\n",
       "      <td>Scientist, product/process development</td>\n",
       "      <td>149.146.147.205</td>\n",
       "      <td>el</td>\n",
       "      <td>98.14</td>\n",
       "    </tr>\n",
       "    <tr>\n",
       "      <th>1</th>\n",
       "      <td>9374 Jasmine Spurs Suite 508\\nSouth John, TN 84355-4179</td>\n",
       "      <td>28 rn</td>\n",
       "      <td>PM</td>\n",
       "      <td>Opera/8.93.(Windows 98; Win 9x 4.90; en-US) Presto/2.9.176 Version/11.00</td>\n",
       "      <td>Fletcher, Richards and Whitaker</td>\n",
       "      <td>3337758169645356</td>\n",
       "      <td>11/18</td>\n",
       "      <td>561</td>\n",
       "      <td>Mastercard</td>\n",
       "      <td>anthony41@reed.com</td>\n",
       "      <td>Drilling engineer</td>\n",
       "      <td>15.160.41.51</td>\n",
       "      <td>fr</td>\n",
       "      <td>70.73</td>\n",
       "    </tr>\n",
       "    <tr>\n",
       "      <th>2</th>\n",
       "      <td>Unit 0065 Box 5052\\nDPO AP 27450</td>\n",
       "      <td>94 vE</td>\n",
       "      <td>PM</td>\n",
       "      <td>Mozilla/5.0 (compatible; MSIE 9.0; Windows NT 6.2; Trident/5.1)</td>\n",
       "      <td>Simpson, Williams and Pham</td>\n",
       "      <td>675957666125</td>\n",
       "      <td>08/19</td>\n",
       "      <td>699</td>\n",
       "      <td>JCB 16 digit</td>\n",
       "      <td>amymiller@morales-harrison.com</td>\n",
       "      <td>Customer service manager</td>\n",
       "      <td>132.207.160.22</td>\n",
       "      <td>de</td>\n",
       "      <td>0.95</td>\n",
       "    </tr>\n",
       "    <tr>\n",
       "      <th>3</th>\n",
       "      <td>7780 Julia Fords\\nNew Stacy, WA 45798</td>\n",
       "      <td>36 vm</td>\n",
       "      <td>PM</td>\n",
       "      <td>Mozilla/5.0 (Macintosh; Intel Mac OS X 10_8_0 rv:3.0; en-US) AppleWebKit/531.27.1 (KHTML, like Gecko) Version/5.1 Safari/531.27.1</td>\n",
       "      <td>Williams, Marshall and Buchanan</td>\n",
       "      <td>6011578504430710</td>\n",
       "      <td>02/24</td>\n",
       "      <td>384</td>\n",
       "      <td>Discover</td>\n",
       "      <td>brent16@olson-robinson.info</td>\n",
       "      <td>Drilling engineer</td>\n",
       "      <td>30.250.74.19</td>\n",
       "      <td>es</td>\n",
       "      <td>78.04</td>\n",
       "    </tr>\n",
       "    <tr>\n",
       "      <th>4</th>\n",
       "      <td>23012 Munoz Drive Suite 337\\nNew Cynthia, TX 57826</td>\n",
       "      <td>20 IE</td>\n",
       "      <td>AM</td>\n",
       "      <td>Opera/9.58.(X11; Linux x86_64; it-IT) Presto/2.9.182 Version/11.00</td>\n",
       "      <td>Brown, Watson and Andrews</td>\n",
       "      <td>6011456623207998</td>\n",
       "      <td>10/25</td>\n",
       "      <td>678</td>\n",
       "      <td>Diners Club / Carte Blanche</td>\n",
       "      <td>christopherwright@gmail.com</td>\n",
       "      <td>Fine artist</td>\n",
       "      <td>24.140.33.94</td>\n",
       "      <td>es</td>\n",
       "      <td>77.82</td>\n",
       "    </tr>\n",
       "  </tbody>\n",
       "</table></div>"
      ],
      "text/plain": [
       "                                             Address    Lot AM or PM  \\\n",
       "0  16629 Pace Camp Apt. 448\\nAlexisborough, NE 77...  46 in       PM   \n",
       "1  9374 Jasmine Spurs Suite 508\\nSouth John, TN 8...  28 rn       PM   \n",
       "2                   Unit 0065 Box 5052\\nDPO AP 27450  94 vE       PM   \n",
       "3              7780 Julia Fords\\nNew Stacy, WA 45798  36 vm       PM   \n",
       "4  23012 Munoz Drive Suite 337\\nNew Cynthia, TX 5...  20 IE       AM   \n",
       "\n",
       "                                        Browser Info  \\\n",
       "0  Opera/9.56.(X11; Linux x86_64; sl-SI) Presto/2...   \n",
       "1  Opera/8.93.(Windows 98; Win 9x 4.90; en-US) Pr...   \n",
       "2  Mozilla/5.0 (compatible; MSIE 9.0; Windows NT ...   \n",
       "3  Mozilla/5.0 (Macintosh; Intel Mac OS X 10_8_0 ...   \n",
       "4  Opera/9.58.(X11; Linux x86_64; it-IT) Presto/2...   \n",
       "\n",
       "                           Company       Credit Card CC Exp Date  \\\n",
       "0                  Martinez-Herman  6011929061123406       02/20   \n",
       "1  Fletcher, Richards and Whitaker  3337758169645356       11/18   \n",
       "2       Simpson, Williams and Pham      675957666125       08/19   \n",
       "3  Williams, Marshall and Buchanan  6011578504430710       02/24   \n",
       "4        Brown, Watson and Andrews  6011456623207998       10/25   \n",
       "\n",
       "   CC Security Code                  CC Provider  \\\n",
       "0               900                 JCB 16 digit   \n",
       "1               561                   Mastercard   \n",
       "2               699                 JCB 16 digit   \n",
       "3               384                     Discover   \n",
       "4               678  Diners Club / Carte Blanche   \n",
       "\n",
       "                            Email                                     Job  \\\n",
       "0               pdunlap@yahoo.com  Scientist, product/process development   \n",
       "1              anthony41@reed.com                       Drilling engineer   \n",
       "2  amymiller@morales-harrison.com                Customer service manager   \n",
       "3     brent16@olson-robinson.info                       Drilling engineer   \n",
       "4     christopherwright@gmail.com                             Fine artist   \n",
       "\n",
       "        IP Address Language  Purchase Price  \n",
       "0  149.146.147.205       el           98.14  \n",
       "1     15.160.41.51       fr           70.73  \n",
       "2   132.207.160.22       de            0.95  \n",
       "3     30.250.74.19       es           78.04  \n",
       "4     24.140.33.94       es           77.82  "
      ]
     },
     "execution_count": 4,
     "metadata": {},
     "output_type": "execute_result"
    }
   ],
   "source": [
    "dt.head()"
   ]
  },
  {
   "cell_type": "markdown",
   "id": "d274423b",
   "metadata": {},
   "source": [
    "<h3>Information and description about data "
   ]
  },
  {
   "cell_type": "code",
   "execution_count": 5,
   "id": "29de8d18",
   "metadata": {},
   "outputs": [
    {
     "name": "stdout",
     "output_type": "stream",
     "text": [
      "<class 'pandas.core.frame.DataFrame'>\n",
      "RangeIndex: 10000 entries, 0 to 9999\n",
      "Data columns (total 14 columns):\n",
      " #   Column            Non-Null Count  Dtype  \n",
      "---  ------            --------------  -----  \n",
      " 0   Address           10000 non-null  object \n",
      " 1   Lot               10000 non-null  object \n",
      " 2   AM or PM          10000 non-null  object \n",
      " 3   Browser Info      10000 non-null  object \n",
      " 4   Company           10000 non-null  object \n",
      " 5   Credit Card       10000 non-null  int64  \n",
      " 6   CC Exp Date       10000 non-null  object \n",
      " 7   CC Security Code  10000 non-null  int64  \n",
      " 8   CC Provider       10000 non-null  object \n",
      " 9   Email             10000 non-null  object \n",
      " 10  Job               10000 non-null  object \n",
      " 11  IP Address        10000 non-null  object \n",
      " 12  Language          10000 non-null  object \n",
      " 13  Purchase Price    10000 non-null  float64\n",
      "dtypes: float64(1), int64(2), object(11)\n",
      "memory usage: 1.1+ MB\n"
     ]
    }
   ],
   "source": [
    "dt.info()"
   ]
  },
  {
   "cell_type": "markdown",
   "id": "9ad057df",
   "metadata": {},
   "source": [
    "<h5>We have no null value in our data "
   ]
  },
  {
   "cell_type": "code",
   "execution_count": 6,
   "id": "bd88b1c6",
   "metadata": {},
   "outputs": [
    {
     "data": {
      "text/html": [
       "<div><div id=45060ba2-eceb-414f-8ead-053e806e38d4 style=\"display:none; background-color:#9D6CFF; color:white; width:200px; height:30px; padding-left:5px; border-radius:4px; flex-direction:row; justify-content:space-around; align-items:center;\" onmouseover=\"this.style.backgroundColor='#BA9BF8'\" onmouseout=\"this.style.backgroundColor='#9D6CFF'\" onclick=\"window.commands?.execute('create-mitosheet-from-dataframe-output');\">See Full Dataframe in Mito</div> <script> if (window.commands.hasCommand('create-mitosheet-from-dataframe-output')) document.getElementById('45060ba2-eceb-414f-8ead-053e806e38d4').style.display = 'flex' </script> <table border=\"1\" class=\"dataframe\">\n",
       "  <thead>\n",
       "    <tr style=\"text-align: right;\">\n",
       "      <th></th>\n",
       "      <th>Credit Card</th>\n",
       "      <th>CC Security Code</th>\n",
       "      <th>Purchase Price</th>\n",
       "    </tr>\n",
       "  </thead>\n",
       "  <tbody>\n",
       "    <tr>\n",
       "      <th>count</th>\n",
       "      <td>1.000000e+04</td>\n",
       "      <td>10000.000000</td>\n",
       "      <td>10000.000000</td>\n",
       "    </tr>\n",
       "    <tr>\n",
       "      <th>mean</th>\n",
       "      <td>2.341374e+15</td>\n",
       "      <td>907.217800</td>\n",
       "      <td>50.347302</td>\n",
       "    </tr>\n",
       "    <tr>\n",
       "      <th>std</th>\n",
       "      <td>2.256103e+15</td>\n",
       "      <td>1589.693035</td>\n",
       "      <td>29.015836</td>\n",
       "    </tr>\n",
       "    <tr>\n",
       "      <th>min</th>\n",
       "      <td>6.040186e+10</td>\n",
       "      <td>0.000000</td>\n",
       "      <td>0.000000</td>\n",
       "    </tr>\n",
       "    <tr>\n",
       "      <th>25%</th>\n",
       "      <td>3.056322e+13</td>\n",
       "      <td>280.000000</td>\n",
       "      <td>25.150000</td>\n",
       "    </tr>\n",
       "    <tr>\n",
       "      <th>50%</th>\n",
       "      <td>8.699942e+14</td>\n",
       "      <td>548.000000</td>\n",
       "      <td>50.505000</td>\n",
       "    </tr>\n",
       "    <tr>\n",
       "      <th>75%</th>\n",
       "      <td>4.492298e+15</td>\n",
       "      <td>816.000000</td>\n",
       "      <td>75.770000</td>\n",
       "    </tr>\n",
       "    <tr>\n",
       "      <th>max</th>\n",
       "      <td>6.012000e+15</td>\n",
       "      <td>9993.000000</td>\n",
       "      <td>99.990000</td>\n",
       "    </tr>\n",
       "  </tbody>\n",
       "</table></div>"
      ],
      "text/plain": [
       "        Credit Card  CC Security Code  Purchase Price\n",
       "count  1.000000e+04      10000.000000    10000.000000\n",
       "mean   2.341374e+15        907.217800       50.347302\n",
       "std    2.256103e+15       1589.693035       29.015836\n",
       "min    6.040186e+10          0.000000        0.000000\n",
       "25%    3.056322e+13        280.000000       25.150000\n",
       "50%    8.699942e+14        548.000000       50.505000\n",
       "75%    4.492298e+15        816.000000       75.770000\n",
       "max    6.012000e+15       9993.000000       99.990000"
      ]
     },
     "execution_count": 6,
     "metadata": {},
     "output_type": "execute_result"
    }
   ],
   "source": [
    "dt.describe()"
   ]
  },
  {
   "cell_type": "markdown",
   "id": "42bf4df4",
   "metadata": {},
   "source": [
    "<h5>Here, only the purchase price can be read and described  "
   ]
  },
  {
   "cell_type": "markdown",
   "id": "118597ef",
   "metadata": {},
   "source": [
    "<h3>Q1) How many people have French as their language ?"
   ]
  },
  {
   "cell_type": "code",
   "execution_count": 7,
   "id": "84ef89bb",
   "metadata": {},
   "outputs": [
    {
     "data": {
      "text/plain": [
       "Index(['Address', 'Lot', 'AM or PM', 'Browser Info', 'Company', 'Credit Card',\n",
       "       'CC Exp Date', 'CC Security Code', 'CC Provider', 'Email', 'Job',\n",
       "       'IP Address', 'Language', 'Purchase Price'],\n",
       "      dtype='object')"
      ]
     },
     "execution_count": 7,
     "metadata": {},
     "output_type": "execute_result"
    }
   ],
   "source": [
    "dt.columns"
   ]
  },
  {
   "cell_type": "code",
   "execution_count": 8,
   "id": "639dce20",
   "metadata": {},
   "outputs": [
    {
     "data": {
      "text/html": [
       "<div><div id=40eadb03-ddba-445e-8e5b-45abd525b8ea style=\"display:none; background-color:#9D6CFF; color:white; width:200px; height:30px; padding-left:5px; border-radius:4px; flex-direction:row; justify-content:space-around; align-items:center;\" onmouseover=\"this.style.backgroundColor='#BA9BF8'\" onmouseout=\"this.style.backgroundColor='#9D6CFF'\" onclick=\"window.commands?.execute('create-mitosheet-from-dataframe-output');\">See Full Dataframe in Mito</div> <script> if (window.commands.hasCommand('create-mitosheet-from-dataframe-output')) document.getElementById('40eadb03-ddba-445e-8e5b-45abd525b8ea').style.display = 'flex' </script> <table border=\"1\" class=\"dataframe\">\n",
       "  <thead>\n",
       "    <tr style=\"text-align: right;\">\n",
       "      <th></th>\n",
       "      <th>Address</th>\n",
       "      <th>Lot</th>\n",
       "      <th>AM or PM</th>\n",
       "      <th>Browser Info</th>\n",
       "      <th>Company</th>\n",
       "      <th>Credit Card</th>\n",
       "      <th>CC Exp Date</th>\n",
       "      <th>CC Security Code</th>\n",
       "      <th>CC Provider</th>\n",
       "      <th>Email</th>\n",
       "      <th>Job</th>\n",
       "      <th>IP Address</th>\n",
       "      <th>Language</th>\n",
       "      <th>Purchase Price</th>\n",
       "    </tr>\n",
       "  </thead>\n",
       "  <tbody>\n",
       "    <tr>\n",
       "      <th>1</th>\n",
       "      <td>9374 Jasmine Spurs Suite 508\\nSouth John, TN 84355-4179</td>\n",
       "      <td>28 rn</td>\n",
       "      <td>PM</td>\n",
       "      <td>Opera/8.93.(Windows 98; Win 9x 4.90; en-US) Presto/2.9.176 Version/11.00</td>\n",
       "      <td>Fletcher, Richards and Whitaker</td>\n",
       "      <td>3337758169645356</td>\n",
       "      <td>11/18</td>\n",
       "      <td>561</td>\n",
       "      <td>Mastercard</td>\n",
       "      <td>anthony41@reed.com</td>\n",
       "      <td>Drilling engineer</td>\n",
       "      <td>15.160.41.51</td>\n",
       "      <td>fr</td>\n",
       "      <td>70.73</td>\n",
       "    </tr>\n",
       "    <tr>\n",
       "      <th>19</th>\n",
       "      <td>125 Hall Summit\\nBoothton, IL 41721</td>\n",
       "      <td>99 CU</td>\n",
       "      <td>PM</td>\n",
       "      <td>Mozilla/5.0 (compatible; MSIE 7.0; Windows NT 6.2; Trident/3.1)</td>\n",
       "      <td>Turner-Mckinney</td>\n",
       "      <td>676343504830</td>\n",
       "      <td>02/20</td>\n",
       "      <td>440</td>\n",
       "      <td>VISA 16 digit</td>\n",
       "      <td>ruiznicole@gmail.com</td>\n",
       "      <td>Designer, interior/spatial</td>\n",
       "      <td>25.105.209.214</td>\n",
       "      <td>fr</td>\n",
       "      <td>58.39</td>\n",
       "    </tr>\n",
       "    <tr>\n",
       "      <th>53</th>\n",
       "      <td>PSC 9431, Box 7059\\nAPO AA 29285-1363</td>\n",
       "      <td>14 qD</td>\n",
       "      <td>AM</td>\n",
       "      <td>Opera/9.34.(X11; Linux x86_64; it-IT) Presto/2.9.160 Version/12.00</td>\n",
       "      <td>Higgins, Cardenas and Kennedy</td>\n",
       "      <td>869972604798355</td>\n",
       "      <td>08/17</td>\n",
       "      <td>157</td>\n",
       "      <td>JCB 16 digit</td>\n",
       "      <td>amorales@yahoo.com</td>\n",
       "      <td>Technical author</td>\n",
       "      <td>44.108.117.122</td>\n",
       "      <td>fr</td>\n",
       "      <td>10.41</td>\n",
       "    </tr>\n",
       "    <tr>\n",
       "      <th>76</th>\n",
       "      <td>49206 Campbell Port\\nNorth Cliffordshire, HI 38945</td>\n",
       "      <td>71 iu</td>\n",
       "      <td>PM</td>\n",
       "      <td>Mozilla/5.0 (Macintosh; U; PPC Mac OS X 10_5_9 rv:4.0; sl-SI) AppleWebKit/533.3.3 (KHTML, like Gecko) Version/4.1 Safari/533.3.3</td>\n",
       "      <td>Jacobs-Tucker</td>\n",
       "      <td>6011343518820988</td>\n",
       "      <td>01/17</td>\n",
       "      <td>806</td>\n",
       "      <td>Voyager</td>\n",
       "      <td>eperez@hotmail.com</td>\n",
       "      <td>Paramedic</td>\n",
       "      <td>210.207.58.168</td>\n",
       "      <td>fr</td>\n",
       "      <td>57.34</td>\n",
       "    </tr>\n",
       "    <tr>\n",
       "      <th>82</th>\n",
       "      <td>493 Smith Valleys Suite 004\\nNew Madelineville, NV 59414-0344</td>\n",
       "      <td>35 ls</td>\n",
       "      <td>PM</td>\n",
       "      <td>Mozilla/5.0 (iPod; U; CPU iPhone OS 4_0 like Mac OS X; it-IT) AppleWebKit/532.13.7 (KHTML, like Gecko) Version/4.0.5 Mobile/8B115 Safari/6532.13.7</td>\n",
       "      <td>Robinson, Johnston and Valdez</td>\n",
       "      <td>4351359627548412</td>\n",
       "      <td>06/17</td>\n",
       "      <td>937</td>\n",
       "      <td>VISA 13 digit</td>\n",
       "      <td>amendez@yahoo.com</td>\n",
       "      <td>Engineer, materials</td>\n",
       "      <td>163.129.163.100</td>\n",
       "      <td>fr</td>\n",
       "      <td>49.04</td>\n",
       "    </tr>\n",
       "    <tr>\n",
       "      <th>...</th>\n",
       "      <td>...</td>\n",
       "      <td>...</td>\n",
       "      <td>...</td>\n",
       "      <td>...</td>\n",
       "      <td>...</td>\n",
       "      <td>...</td>\n",
       "      <td>...</td>\n",
       "      <td>...</td>\n",
       "      <td>...</td>\n",
       "      <td>...</td>\n",
       "      <td>...</td>\n",
       "      <td>...</td>\n",
       "      <td>...</td>\n",
       "      <td>...</td>\n",
       "    </tr>\n",
       "    <tr>\n",
       "      <th>9941</th>\n",
       "      <td>43757 Brown Lodge\\nValerieberg, PR 88518</td>\n",
       "      <td>68 DG</td>\n",
       "      <td>AM</td>\n",
       "      <td>Mozilla/5.0 (compatible; MSIE 5.0; Windows NT 5.0; Trident/4.0)</td>\n",
       "      <td>Jones, Williams and Dunn</td>\n",
       "      <td>6011508474487291</td>\n",
       "      <td>04/26</td>\n",
       "      <td>906</td>\n",
       "      <td>Mastercard</td>\n",
       "      <td>christian55@gmail.com</td>\n",
       "      <td>Secondary school teacher</td>\n",
       "      <td>216.118.235.145</td>\n",
       "      <td>fr</td>\n",
       "      <td>60.03</td>\n",
       "    </tr>\n",
       "    <tr>\n",
       "      <th>9947</th>\n",
       "      <td>32827 Carl Inlet\\nSouth Nicole, NY 38081-6636</td>\n",
       "      <td>40 Dp</td>\n",
       "      <td>PM</td>\n",
       "      <td>Mozilla/5.0 (Windows; U; Windows 95) AppleWebKit/534.37.1 (KHTML, like Gecko) Version/4.1 Safari/534.37.1</td>\n",
       "      <td>Pruitt-Flores</td>\n",
       "      <td>3158564208754951</td>\n",
       "      <td>03/17</td>\n",
       "      <td>386</td>\n",
       "      <td>Mastercard</td>\n",
       "      <td>josephsmith@gmail.com</td>\n",
       "      <td>Textile designer</td>\n",
       "      <td>198.68.38.23</td>\n",
       "      <td>fr</td>\n",
       "      <td>49.61</td>\n",
       "    </tr>\n",
       "    <tr>\n",
       "      <th>9951</th>\n",
       "      <td>518 Brown Dam\\nGarciaside, IN 33057</td>\n",
       "      <td>71 wq</td>\n",
       "      <td>AM</td>\n",
       "      <td>Mozilla/5.0 (compatible; MSIE 8.0; Windows NT 6.2; Trident/5.0)</td>\n",
       "      <td>Crosby, Vasquez and Ballard</td>\n",
       "      <td>5256758441931287</td>\n",
       "      <td>12/17</td>\n",
       "      <td>146</td>\n",
       "      <td>VISA 16 digit</td>\n",
       "      <td>cjennings@yahoo.com</td>\n",
       "      <td>Lighting technician, broadcasting/film/video</td>\n",
       "      <td>58.12.83.1</td>\n",
       "      <td>fr</td>\n",
       "      <td>57.59</td>\n",
       "    </tr>\n",
       "    <tr>\n",
       "      <th>9977</th>\n",
       "      <td>02182 Keith Expressway\\nEast Shannon, CT 20578-1176</td>\n",
       "      <td>34 RL</td>\n",
       "      <td>AM</td>\n",
       "      <td>Mozilla/5.0 (compatible; MSIE 9.0; Windows NT 5.0; Trident/5.1)</td>\n",
       "      <td>Deleon, Jacobson and Benton</td>\n",
       "      <td>4186094003664688</td>\n",
       "      <td>06/21</td>\n",
       "      <td>397</td>\n",
       "      <td>JCB 16 digit</td>\n",
       "      <td>daltoncarter@yahoo.com</td>\n",
       "      <td>Biomedical engineer</td>\n",
       "      <td>146.238.118.2</td>\n",
       "      <td>fr</td>\n",
       "      <td>94.93</td>\n",
       "    </tr>\n",
       "    <tr>\n",
       "      <th>9980</th>\n",
       "      <td>6061 Dave Lights\\nPhillipsview, UT 40500</td>\n",
       "      <td>25 Mv</td>\n",
       "      <td>AM</td>\n",
       "      <td>Opera/8.58.(Windows NT 5.0; it-IT) Presto/2.9.178 Version/10.00</td>\n",
       "      <td>Cortez-Frye</td>\n",
       "      <td>6011944199756993</td>\n",
       "      <td>12/24</td>\n",
       "      <td>755</td>\n",
       "      <td>JCB 15 digit</td>\n",
       "      <td>mark74@kirby-stewart.org</td>\n",
       "      <td>Textile designer</td>\n",
       "      <td>110.103.77.195</td>\n",
       "      <td>fr</td>\n",
       "      <td>16.05</td>\n",
       "    </tr>\n",
       "  </tbody>\n",
       "</table></div>"
      ],
      "text/plain": [
       "                                                Address    Lot AM or PM  \\\n",
       "1     9374 Jasmine Spurs Suite 508\\nSouth John, TN 8...  28 rn       PM   \n",
       "19                  125 Hall Summit\\nBoothton, IL 41721  99 CU       PM   \n",
       "53                PSC 9431, Box 7059\\nAPO AA 29285-1363  14 qD       AM   \n",
       "76    49206 Campbell Port\\nNorth Cliffordshire, HI 3...  71 iu       PM   \n",
       "82    493 Smith Valleys Suite 004\\nNew Madelineville...  35 ls       PM   \n",
       "...                                                 ...    ...      ...   \n",
       "9941           43757 Brown Lodge\\nValerieberg, PR 88518  68 DG       AM   \n",
       "9947      32827 Carl Inlet\\nSouth Nicole, NY 38081-6636  40 Dp       PM   \n",
       "9951                518 Brown Dam\\nGarciaside, IN 33057  71 wq       AM   \n",
       "9977  02182 Keith Expressway\\nEast Shannon, CT 20578...  34 RL       AM   \n",
       "9980           6061 Dave Lights\\nPhillipsview, UT 40500  25 Mv       AM   \n",
       "\n",
       "                                           Browser Info  \\\n",
       "1     Opera/8.93.(Windows 98; Win 9x 4.90; en-US) Pr...   \n",
       "19    Mozilla/5.0 (compatible; MSIE 7.0; Windows NT ...   \n",
       "53    Opera/9.34.(X11; Linux x86_64; it-IT) Presto/2...   \n",
       "76    Mozilla/5.0 (Macintosh; U; PPC Mac OS X 10_5_9...   \n",
       "82    Mozilla/5.0 (iPod; U; CPU iPhone OS 4_0 like M...   \n",
       "...                                                 ...   \n",
       "9941  Mozilla/5.0 (compatible; MSIE 5.0; Windows NT ...   \n",
       "9947  Mozilla/5.0 (Windows; U; Windows 95) AppleWebK...   \n",
       "9951  Mozilla/5.0 (compatible; MSIE 8.0; Windows NT ...   \n",
       "9977  Mozilla/5.0 (compatible; MSIE 9.0; Windows NT ...   \n",
       "9980  Opera/8.58.(Windows NT 5.0; it-IT) Presto/2.9....   \n",
       "\n",
       "                              Company       Credit Card CC Exp Date  \\\n",
       "1     Fletcher, Richards and Whitaker  3337758169645356       11/18   \n",
       "19                    Turner-Mckinney      676343504830       02/20   \n",
       "53      Higgins, Cardenas and Kennedy   869972604798355       08/17   \n",
       "76                      Jacobs-Tucker  6011343518820988       01/17   \n",
       "82      Robinson, Johnston and Valdez  4351359627548412       06/17   \n",
       "...                               ...               ...         ...   \n",
       "9941         Jones, Williams and Dunn  6011508474487291       04/26   \n",
       "9947                    Pruitt-Flores  3158564208754951       03/17   \n",
       "9951      Crosby, Vasquez and Ballard  5256758441931287       12/17   \n",
       "9977      Deleon, Jacobson and Benton  4186094003664688       06/21   \n",
       "9980                      Cortez-Frye  6011944199756993       12/24   \n",
       "\n",
       "      CC Security Code    CC Provider                     Email  \\\n",
       "1                  561     Mastercard        anthony41@reed.com   \n",
       "19                 440  VISA 16 digit      ruiznicole@gmail.com   \n",
       "53                 157   JCB 16 digit        amorales@yahoo.com   \n",
       "76                 806        Voyager        eperez@hotmail.com   \n",
       "82                 937  VISA 13 digit         amendez@yahoo.com   \n",
       "...                ...            ...                       ...   \n",
       "9941               906     Mastercard     christian55@gmail.com   \n",
       "9947               386     Mastercard     josephsmith@gmail.com   \n",
       "9951               146  VISA 16 digit       cjennings@yahoo.com   \n",
       "9977               397   JCB 16 digit    daltoncarter@yahoo.com   \n",
       "9980               755   JCB 15 digit  mark74@kirby-stewart.org   \n",
       "\n",
       "                                               Job       IP Address Language  \\\n",
       "1                                Drilling engineer     15.160.41.51       fr   \n",
       "19                      Designer, interior/spatial   25.105.209.214       fr   \n",
       "53                                Technical author   44.108.117.122       fr   \n",
       "76                                       Paramedic   210.207.58.168       fr   \n",
       "82                             Engineer, materials  163.129.163.100       fr   \n",
       "...                                            ...              ...      ...   \n",
       "9941                      Secondary school teacher  216.118.235.145       fr   \n",
       "9947                              Textile designer     198.68.38.23       fr   \n",
       "9951  Lighting technician, broadcasting/film/video       58.12.83.1       fr   \n",
       "9977                           Biomedical engineer    146.238.118.2       fr   \n",
       "9980                              Textile designer   110.103.77.195       fr   \n",
       "\n",
       "      Purchase Price  \n",
       "1              70.73  \n",
       "19             58.39  \n",
       "53             10.41  \n",
       "76             57.34  \n",
       "82             49.04  \n",
       "...              ...  \n",
       "9941           60.03  \n",
       "9947           49.61  \n",
       "9951           57.59  \n",
       "9977           94.93  \n",
       "9980           16.05  \n",
       "\n",
       "[1097 rows x 14 columns]"
      ]
     },
     "execution_count": 8,
     "metadata": {},
     "output_type": "execute_result"
    }
   ],
   "source": [
    "dt[dt['Language']=='fr']"
   ]
  },
  {
   "cell_type": "code",
   "execution_count": 9,
   "id": "1072e8a3",
   "metadata": {},
   "outputs": [
    {
     "data": {
      "text/plain": [
       "1097"
      ]
     },
     "execution_count": 9,
     "metadata": {},
     "output_type": "execute_result"
    }
   ],
   "source": [
    "len(dt[dt['Language']=='fr'])"
   ]
  },
  {
   "cell_type": "markdown",
   "id": "5249a34e",
   "metadata": {},
   "source": [
    "<h3>Q2) what is the most language ?"
   ]
  },
  {
   "cell_type": "code",
   "execution_count": 10,
   "id": "60745a87",
   "metadata": {},
   "outputs": [
    {
     "data": {
      "text/plain": [
       "array(['el', 'fr', 'de', 'es', 'ru', 'pt', 'zh', 'en', 'it'], dtype=object)"
      ]
     },
     "execution_count": 10,
     "metadata": {},
     "output_type": "execute_result"
    }
   ],
   "source": [
    "dt['Language'].unique()"
   ]
  },
  {
   "cell_type": "code",
   "execution_count": 11,
   "id": "c7863d60",
   "metadata": {},
   "outputs": [
    {
     "data": {
      "text/plain": [
       "de    1155\n",
       "ru    1155\n",
       "el    1137\n",
       "pt    1118\n",
       "en    1098\n",
       "fr    1097\n",
       "es    1095\n",
       "it    1086\n",
       "zh    1059\n",
       "Name: Language, dtype: int64"
      ]
     },
     "execution_count": 11,
     "metadata": {},
     "output_type": "execute_result"
    }
   ],
   "source": [
    "dt.Language.value_counts()"
   ]
  },
  {
   "cell_type": "code",
   "execution_count": 12,
   "id": "2ffc5f97",
   "metadata": {},
   "outputs": [
    {
     "data": {
      "image/png": "[encoded data removed]",
      "text/plain": [
       "<Figure size 720x720 with 1 Axes>"
      ]
     },
     "metadata": {
      "needs_background": "light"
     },
     "output_type": "display_data"
    }
   ],
   "source": [
    "plt.figure(figsize=(10,10))\n",
    "sns.countplot(x='Language',data=dt,palette='winter')\n",
    "plt.xlabel(\"Language\")\n",
    "plt.show()"
   ]
  },
  {
   "cell_type": "markdown",
   "id": "33980a45",
   "metadata": {},
   "source": [
    "<h3>Q3) Job title contains engineer "
   ]
  },
  {
   "cell_type": "code",
   "execution_count": 13,
   "id": "1170f7d9",
   "metadata": {},
   "outputs": [
    {
     "data": {
      "text/plain": [
       "Index(['Address', 'Lot', 'AM or PM', 'Browser Info', 'Company', 'Credit Card',\n",
       "       'CC Exp Date', 'CC Security Code', 'CC Provider', 'Email', 'Job',\n",
       "       'IP Address', 'Language', 'Purchase Price'],\n",
       "      dtype='object')"
      ]
     },
     "execution_count": 13,
     "metadata": {},
     "output_type": "execute_result"
    }
   ],
   "source": [
    "dt.columns"
   ]
  },
  {
   "cell_type": "code",
   "execution_count": 14,
   "id": "af7f39a4",
   "metadata": {},
   "outputs": [
    {
     "data": {
      "text/html": [
       "<div><div id=b4d26636-e9f6-495f-a0e2-c6e39cf6d5d9 style=\"display:none; background-color:#9D6CFF; color:white; width:200px; height:30px; padding-left:5px; border-radius:4px; flex-direction:row; justify-content:space-around; align-items:center;\" onmouseover=\"this.style.backgroundColor='#BA9BF8'\" onmouseout=\"this.style.backgroundColor='#9D6CFF'\" onclick=\"window.commands?.execute('create-mitosheet-from-dataframe-output');\">See Full Dataframe in Mito</div> <script> if (window.commands.hasCommand('create-mitosheet-from-dataframe-output')) document.getElementById('b4d26636-e9f6-495f-a0e2-c6e39cf6d5d9').style.display = 'flex' </script> <table border=\"1\" class=\"dataframe\">\n",
       "  <thead>\n",
       "    <tr style=\"text-align: right;\">\n",
       "      <th></th>\n",
       "      <th>Job</th>\n",
       "    </tr>\n",
       "  </thead>\n",
       "  <tbody>\n",
       "    <tr>\n",
       "      <th>0</th>\n",
       "      <td>Scientist, product/process development</td>\n",
       "    </tr>\n",
       "    <tr>\n",
       "      <th>1</th>\n",
       "      <td>Drilling engineer</td>\n",
       "    </tr>\n",
       "    <tr>\n",
       "      <th>2</th>\n",
       "      <td>Customer service manager</td>\n",
       "    </tr>\n",
       "    <tr>\n",
       "      <th>3</th>\n",
       "      <td>Drilling engineer</td>\n",
       "    </tr>\n",
       "    <tr>\n",
       "      <th>4</th>\n",
       "      <td>Fine artist</td>\n",
       "    </tr>\n",
       "    <tr>\n",
       "      <th>...</th>\n",
       "      <td>...</td>\n",
       "    </tr>\n",
       "    <tr>\n",
       "      <th>9995</th>\n",
       "      <td>Printmaker</td>\n",
       "    </tr>\n",
       "    <tr>\n",
       "      <th>9996</th>\n",
       "      <td>Energy engineer</td>\n",
       "    </tr>\n",
       "    <tr>\n",
       "      <th>9997</th>\n",
       "      <td>Veterinary surgeon</td>\n",
       "    </tr>\n",
       "    <tr>\n",
       "      <th>9998</th>\n",
       "      <td>Local government officer</td>\n",
       "    </tr>\n",
       "    <tr>\n",
       "      <th>9999</th>\n",
       "      <td>Embryologist, clinical</td>\n",
       "    </tr>\n",
       "  </tbody>\n",
       "</table></div>"
      ],
      "text/plain": [
       "                                         Job\n",
       "0     Scientist, product/process development\n",
       "1                          Drilling engineer\n",
       "2                   Customer service manager\n",
       "3                          Drilling engineer\n",
       "4                                Fine artist\n",
       "...                                      ...\n",
       "9995                              Printmaker\n",
       "9996                         Energy engineer\n",
       "9997                      Veterinary surgeon\n",
       "9998                Local government officer\n",
       "9999                  Embryologist, clinical\n",
       "\n",
       "[10000 rows x 1 columns]"
      ]
     },
     "execution_count": 14,
     "metadata": {},
     "output_type": "execute_result"
    }
   ],
   "source": [
    "pd.DataFrame(dt.Job)"
   ]
  },
  {
   "cell_type": "code",
   "execution_count": 15,
   "id": "9cda3ac4",
   "metadata": {},
   "outputs": [
    {
     "data": {
      "text/html": [
       "<div><div id=14e7dc58-5fcc-46c7-9ff3-6274d11719da style=\"display:none; background-color:#9D6CFF; color:white; width:200px; height:30px; padding-left:5px; border-radius:4px; flex-direction:row; justify-content:space-around; align-items:center;\" onmouseover=\"this.style.backgroundColor='#BA9BF8'\" onmouseout=\"this.style.backgroundColor='#9D6CFF'\" onclick=\"window.commands?.execute('create-mitosheet-from-dataframe-output');\">See Full Dataframe in Mito</div> <script> if (window.commands.hasCommand('create-mitosheet-from-dataframe-output')) document.getElementById('14e7dc58-5fcc-46c7-9ff3-6274d11719da').style.display = 'flex' </script> <table border=\"1\" class=\"dataframe\">\n",
       "  <thead>\n",
       "    <tr style=\"text-align: right;\">\n",
       "      <th></th>\n",
       "      <th>Address</th>\n",
       "      <th>Lot</th>\n",
       "      <th>AM or PM</th>\n",
       "      <th>Browser Info</th>\n",
       "      <th>Company</th>\n",
       "      <th>Credit Card</th>\n",
       "      <th>CC Exp Date</th>\n",
       "      <th>CC Security Code</th>\n",
       "      <th>CC Provider</th>\n",
       "      <th>Email</th>\n",
       "      <th>Job</th>\n",
       "      <th>IP Address</th>\n",
       "      <th>Language</th>\n",
       "      <th>Purchase Price</th>\n",
       "    </tr>\n",
       "  </thead>\n",
       "  <tbody>\n",
       "    <tr>\n",
       "      <th>1</th>\n",
       "      <td>9374 Jasmine Spurs Suite 508\\nSouth John, TN 84355-4179</td>\n",
       "      <td>28 rn</td>\n",
       "      <td>PM</td>\n",
       "      <td>Opera/8.93.(Windows 98; Win 9x 4.90; en-US) Presto/2.9.176 Version/11.00</td>\n",
       "      <td>Fletcher, Richards and Whitaker</td>\n",
       "      <td>3337758169645356</td>\n",
       "      <td>11/18</td>\n",
       "      <td>561</td>\n",
       "      <td>Mastercard</td>\n",
       "      <td>anthony41@reed.com</td>\n",
       "      <td>Drilling engineer</td>\n",
       "      <td>15.160.41.51</td>\n",
       "      <td>fr</td>\n",
       "      <td>70.73</td>\n",
       "    </tr>\n",
       "    <tr>\n",
       "      <th>3</th>\n",
       "      <td>7780 Julia Fords\\nNew Stacy, WA 45798</td>\n",
       "      <td>36 vm</td>\n",
       "      <td>PM</td>\n",
       "      <td>Mozilla/5.0 (Macintosh; Intel Mac OS X 10_8_0 rv:3.0; en-US) AppleWebKit/531.27.1 (KHTML, like Gecko) Version/5.1 Safari/531.27.1</td>\n",
       "      <td>Williams, Marshall and Buchanan</td>\n",
       "      <td>6011578504430710</td>\n",
       "      <td>02/24</td>\n",
       "      <td>384</td>\n",
       "      <td>Discover</td>\n",
       "      <td>brent16@olson-robinson.info</td>\n",
       "      <td>Drilling engineer</td>\n",
       "      <td>30.250.74.19</td>\n",
       "      <td>es</td>\n",
       "      <td>78.04</td>\n",
       "    </tr>\n",
       "    <tr>\n",
       "      <th>50</th>\n",
       "      <td>41159 Michael Centers\\nAdamsfort, RI 37108-6674</td>\n",
       "      <td>46 Ce</td>\n",
       "      <td>PM</td>\n",
       "      <td>Mozilla/5.0 (Windows 98; Win 9x 4.90; sl-SI; rv:1.9.2.20) Gecko/2016-05-03 02:05:14 Firefox/3.8</td>\n",
       "      <td>Wright, Williams and Mendez</td>\n",
       "      <td>4008586485908075</td>\n",
       "      <td>05/19</td>\n",
       "      <td>945</td>\n",
       "      <td>JCB 16 digit</td>\n",
       "      <td>susanvalentine@obrien.org</td>\n",
       "      <td>Mechanical engineer</td>\n",
       "      <td>213.203.143.215</td>\n",
       "      <td>de</td>\n",
       "      <td>36.85</td>\n",
       "    </tr>\n",
       "    <tr>\n",
       "      <th>55</th>\n",
       "      <td>27635 Maureen Bypass Apt. 883\\nSandraview, SD 92835-3333</td>\n",
       "      <td>59 LJ</td>\n",
       "      <td>AM</td>\n",
       "      <td>Mozilla/5.0 (iPod; U; CPU iPhone OS 3_3 like Mac OS X; en-US) AppleWebKit/534.33.7 (KHTML, like Gecko) Version/4.0.5 Mobile/8B113 Safari/6534.33.7</td>\n",
       "      <td>Sims-Lyons</td>\n",
       "      <td>3158113629128344</td>\n",
       "      <td>09/19</td>\n",
       "      <td>857</td>\n",
       "      <td>VISA 16 digit</td>\n",
       "      <td>adkinsarthur@yahoo.com</td>\n",
       "      <td>Engineer, broadcasting (operations)</td>\n",
       "      <td>227.235.89.210</td>\n",
       "      <td>pt</td>\n",
       "      <td>48.74</td>\n",
       "    </tr>\n",
       "    <tr>\n",
       "      <th>60</th>\n",
       "      <td>7126 Katherine Squares\\nPerkinsview, CO 97299-0900</td>\n",
       "      <td>63 qu</td>\n",
       "      <td>AM</td>\n",
       "      <td>Opera/8.68.(X11; Linux x86_64; en-US) Presto/2.9.160 Version/12.00</td>\n",
       "      <td>Marshall-Fernandez</td>\n",
       "      <td>349767747049645</td>\n",
       "      <td>05/20</td>\n",
       "      <td>672</td>\n",
       "      <td>JCB 15 digit</td>\n",
       "      <td>sweeneyhannah@jones.biz</td>\n",
       "      <td>Engineer, agricultural</td>\n",
       "      <td>197.144.142.102</td>\n",
       "      <td>de</td>\n",
       "      <td>20.43</td>\n",
       "    </tr>\n",
       "    <tr>\n",
       "      <th>...</th>\n",
       "      <td>...</td>\n",
       "      <td>...</td>\n",
       "      <td>...</td>\n",
       "      <td>...</td>\n",
       "      <td>...</td>\n",
       "      <td>...</td>\n",
       "      <td>...</td>\n",
       "      <td>...</td>\n",
       "      <td>...</td>\n",
       "      <td>...</td>\n",
       "      <td>...</td>\n",
       "      <td>...</td>\n",
       "      <td>...</td>\n",
       "      <td>...</td>\n",
       "    </tr>\n",
       "    <tr>\n",
       "      <th>9948</th>\n",
       "      <td>95544 Johnson Isle Suite 939\\nMichaelberg, RI 33033-9231</td>\n",
       "      <td>91 bW</td>\n",
       "      <td>AM</td>\n",
       "      <td>Opera/8.36.(X11; Linux x86_64; sl-SI) Presto/2.9.182 Version/12.00</td>\n",
       "      <td>Fox-Peterson</td>\n",
       "      <td>4762924304307</td>\n",
       "      <td>03/17</td>\n",
       "      <td>567</td>\n",
       "      <td>Mastercard</td>\n",
       "      <td>haleybenjamin@gmail.com</td>\n",
       "      <td>Structural engineer</td>\n",
       "      <td>120.36.140.58</td>\n",
       "      <td>en</td>\n",
       "      <td>71.89</td>\n",
       "    </tr>\n",
       "    <tr>\n",
       "      <th>9952</th>\n",
       "      <td>9991 Vaughn Hills\\nRacheltown, PA 55409</td>\n",
       "      <td>36 KC</td>\n",
       "      <td>PM</td>\n",
       "      <td>Mozilla/5.0 (X11; Linux i686; rv:1.9.5.20) Gecko/2012-07-12 19:36:07 Firefox/3.8</td>\n",
       "      <td>Ward, Smith and Castillo</td>\n",
       "      <td>6011679271321726</td>\n",
       "      <td>09/19</td>\n",
       "      <td>964</td>\n",
       "      <td>Voyager</td>\n",
       "      <td>jonesjennifer@olson.com</td>\n",
       "      <td>Engineer, energy</td>\n",
       "      <td>116.228.12.42</td>\n",
       "      <td>es</td>\n",
       "      <td>39.63</td>\n",
       "    </tr>\n",
       "    <tr>\n",
       "      <th>9970</th>\n",
       "      <td>0060 Keith Stream\\nWestport, CO 47097</td>\n",
       "      <td>11 nt</td>\n",
       "      <td>PM</td>\n",
       "      <td>Mozilla/5.0 (Macintosh; U; Intel Mac OS X 10_8_7 rv:5.0; en-US) AppleWebKit/534.3.6 (KHTML, like Gecko) Version/4.0.3 Safari/534.3.6</td>\n",
       "      <td>Carpenter, Good and Hart</td>\n",
       "      <td>6011485664704662</td>\n",
       "      <td>07/19</td>\n",
       "      <td>543</td>\n",
       "      <td>Discover</td>\n",
       "      <td>rangelbrian@hotmail.com</td>\n",
       "      <td>Electrical engineer</td>\n",
       "      <td>242.8.85.205</td>\n",
       "      <td>en</td>\n",
       "      <td>17.76</td>\n",
       "    </tr>\n",
       "    <tr>\n",
       "      <th>9977</th>\n",
       "      <td>02182 Keith Expressway\\nEast Shannon, CT 20578-1176</td>\n",
       "      <td>34 RL</td>\n",
       "      <td>AM</td>\n",
       "      <td>Mozilla/5.0 (compatible; MSIE 9.0; Windows NT 5.0; Trident/5.1)</td>\n",
       "      <td>Deleon, Jacobson and Benton</td>\n",
       "      <td>4186094003664688</td>\n",
       "      <td>06/21</td>\n",
       "      <td>397</td>\n",
       "      <td>JCB 16 digit</td>\n",
       "      <td>daltoncarter@yahoo.com</td>\n",
       "      <td>Biomedical engineer</td>\n",
       "      <td>146.238.118.2</td>\n",
       "      <td>fr</td>\n",
       "      <td>94.93</td>\n",
       "    </tr>\n",
       "    <tr>\n",
       "      <th>9996</th>\n",
       "      <td>832 Curtis Dam Suite 785\\nNorth Edwardburgh, TX 55158</td>\n",
       "      <td>41 JY</td>\n",
       "      <td>AM</td>\n",
       "      <td>Mozilla/5.0 (compatible; MSIE 9.0; Windows NT 5.1; Trident/4.1)</td>\n",
       "      <td>Hale, Collins and Wilson</td>\n",
       "      <td>210033169205009</td>\n",
       "      <td>07/25</td>\n",
       "      <td>207</td>\n",
       "      <td>JCB 16 digit</td>\n",
       "      <td>mary85@hotmail.com</td>\n",
       "      <td>Energy engineer</td>\n",
       "      <td>121.133.168.51</td>\n",
       "      <td>pt</td>\n",
       "      <td>25.63</td>\n",
       "    </tr>\n",
       "  </tbody>\n",
       "</table></div>"
      ],
      "text/plain": [
       "                                                Address    Lot AM or PM  \\\n",
       "1     9374 Jasmine Spurs Suite 508\\nSouth John, TN 8...  28 rn       PM   \n",
       "3                 7780 Julia Fords\\nNew Stacy, WA 45798  36 vm       PM   \n",
       "50      41159 Michael Centers\\nAdamsfort, RI 37108-6674  46 Ce       PM   \n",
       "55    27635 Maureen Bypass Apt. 883\\nSandraview, SD ...  59 LJ       AM   \n",
       "60    7126 Katherine Squares\\nPerkinsview, CO 97299-...  63 qu       AM   \n",
       "...                                                 ...    ...      ...   \n",
       "9948  95544 Johnson Isle Suite 939\\nMichaelberg, RI ...  91 bW       AM   \n",
       "9952            9991 Vaughn Hills\\nRacheltown, PA 55409  36 KC       PM   \n",
       "9970              0060 Keith Stream\\nWestport, CO 47097  11 nt       PM   \n",
       "9977  02182 Keith Expressway\\nEast Shannon, CT 20578...  34 RL       AM   \n",
       "9996  832 Curtis Dam Suite 785\\nNorth Edwardburgh, T...  41 JY       AM   \n",
       "\n",
       "                                           Browser Info  \\\n",
       "1     Opera/8.93.(Windows 98; Win 9x 4.90; en-US) Pr...   \n",
       "3     Mozilla/5.0 (Macintosh; Intel Mac OS X 10_8_0 ...   \n",
       "50    Mozilla/5.0 (Windows 98; Win 9x 4.90; sl-SI; r...   \n",
       "55    Mozilla/5.0 (iPod; U; CPU iPhone OS 3_3 like M...   \n",
       "60    Opera/8.68.(X11; Linux x86_64; en-US) Presto/2...   \n",
       "...                                                 ...   \n",
       "9948  Opera/8.36.(X11; Linux x86_64; sl-SI) Presto/2...   \n",
       "9952  Mozilla/5.0 (X11; Linux i686; rv:1.9.5.20) Gec...   \n",
       "9970  Mozilla/5.0 (Macintosh; U; Intel Mac OS X 10_8...   \n",
       "9977  Mozilla/5.0 (compatible; MSIE 9.0; Windows NT ...   \n",
       "9996  Mozilla/5.0 (compatible; MSIE 9.0; Windows NT ...   \n",
       "\n",
       "                              Company       Credit Card CC Exp Date  \\\n",
       "1     Fletcher, Richards and Whitaker  3337758169645356       11/18   \n",
       "3     Williams, Marshall and Buchanan  6011578504430710       02/24   \n",
       "50        Wright, Williams and Mendez  4008586485908075       05/19   \n",
       "55                         Sims-Lyons  3158113629128344       09/19   \n",
       "60                 Marshall-Fernandez   349767747049645       05/20   \n",
       "...                               ...               ...         ...   \n",
       "9948                     Fox-Peterson     4762924304307       03/17   \n",
       "9952         Ward, Smith and Castillo  6011679271321726       09/19   \n",
       "9970         Carpenter, Good and Hart  6011485664704662       07/19   \n",
       "9977      Deleon, Jacobson and Benton  4186094003664688       06/21   \n",
       "9996         Hale, Collins and Wilson   210033169205009       07/25   \n",
       "\n",
       "      CC Security Code    CC Provider                        Email  \\\n",
       "1                  561     Mastercard           anthony41@reed.com   \n",
       "3                  384       Discover  brent16@olson-robinson.info   \n",
       "50                 945   JCB 16 digit    susanvalentine@obrien.org   \n",
       "55                 857  VISA 16 digit       adkinsarthur@yahoo.com   \n",
       "60                 672   JCB 15 digit      sweeneyhannah@jones.biz   \n",
       "...                ...            ...                          ...   \n",
       "9948               567     Mastercard      haleybenjamin@gmail.com   \n",
       "9952               964        Voyager      jonesjennifer@olson.com   \n",
       "9970               543       Discover      rangelbrian@hotmail.com   \n",
       "9977               397   JCB 16 digit       daltoncarter@yahoo.com   \n",
       "9996               207   JCB 16 digit           mary85@hotmail.com   \n",
       "\n",
       "                                      Job       IP Address Language  \\\n",
       "1                       Drilling engineer     15.160.41.51       fr   \n",
       "3                       Drilling engineer     30.250.74.19       es   \n",
       "50                    Mechanical engineer  213.203.143.215       de   \n",
       "55    Engineer, broadcasting (operations)   227.235.89.210       pt   \n",
       "60                 Engineer, agricultural  197.144.142.102       de   \n",
       "...                                   ...              ...      ...   \n",
       "9948                  Structural engineer    120.36.140.58       en   \n",
       "9952                     Engineer, energy    116.228.12.42       es   \n",
       "9970                  Electrical engineer     242.8.85.205       en   \n",
       "9977                  Biomedical engineer    146.238.118.2       fr   \n",
       "9996                      Energy engineer   121.133.168.51       pt   \n",
       "\n",
       "      Purchase Price  \n",
       "1              70.73  \n",
       "3              78.04  \n",
       "50             36.85  \n",
       "55             48.74  \n",
       "60             20.43  \n",
       "...              ...  \n",
       "9948           71.89  \n",
       "9952           39.63  \n",
       "9970           17.76  \n",
       "9977           94.93  \n",
       "9996           25.63  \n",
       "\n",
       "[984 rows x 14 columns]"
      ]
     },
     "execution_count": 15,
     "metadata": {},
     "output_type": "execute_result"
    }
   ],
   "source": [
    "dt[dt['Job'].str.contains('engineer',case=False)]"
   ]
  },
  {
   "cell_type": "code",
   "execution_count": 16,
   "id": "2726817b",
   "metadata": {},
   "outputs": [
    {
     "data": {
      "text/plain": [
       "984"
      ]
     },
     "execution_count": 16,
     "metadata": {},
     "output_type": "execute_result"
    }
   ],
   "source": [
    "len(dt[dt['Job'].str.contains('engineer',case=False)])"
   ]
  },
  {
   "cell_type": "markdown",
   "id": "ee887204",
   "metadata": {},
   "source": [
    "<h3>Q4) How many people have Mastercard as their credit card provider\n",
    "    and made a purchase above 50?"
   ]
  },
  {
   "cell_type": "code",
   "execution_count": 17,
   "id": "2b8a48df",
   "metadata": {},
   "outputs": [
    {
     "data": {
      "text/plain": [
       "Index(['Address', 'Lot', 'AM or PM', 'Browser Info', 'Company', 'Credit Card',\n",
       "       'CC Exp Date', 'CC Security Code', 'CC Provider', 'Email', 'Job',\n",
       "       'IP Address', 'Language', 'Purchase Price'],\n",
       "      dtype='object')"
      ]
     },
     "execution_count": 17,
     "metadata": {},
     "output_type": "execute_result"
    }
   ],
   "source": [
    "dt.columns"
   ]
  },
  {
   "cell_type": "code",
   "execution_count": 18,
   "id": "aee18439",
   "metadata": {},
   "outputs": [
    {
     "data": {
      "text/html": [
       "<div><div id=f37f1b73-ad90-4c7a-a66d-6f13cf371ae2 style=\"display:none; background-color:#9D6CFF; color:white; width:200px; height:30px; padding-left:5px; border-radius:4px; flex-direction:row; justify-content:space-around; align-items:center;\" onmouseover=\"this.style.backgroundColor='#BA9BF8'\" onmouseout=\"this.style.backgroundColor='#9D6CFF'\" onclick=\"window.commands?.execute('create-mitosheet-from-dataframe-output');\">See Full Dataframe in Mito</div> <script> if (window.commands.hasCommand('create-mitosheet-from-dataframe-output')) document.getElementById('f37f1b73-ad90-4c7a-a66d-6f13cf371ae2').style.display = 'flex' </script> <table border=\"1\" class=\"dataframe\">\n",
       "  <thead>\n",
       "    <tr style=\"text-align: right;\">\n",
       "      <th></th>\n",
       "      <th>Address</th>\n",
       "      <th>Lot</th>\n",
       "      <th>AM or PM</th>\n",
       "      <th>Browser Info</th>\n",
       "      <th>Company</th>\n",
       "      <th>Credit Card</th>\n",
       "      <th>CC Exp Date</th>\n",
       "      <th>CC Security Code</th>\n",
       "      <th>CC Provider</th>\n",
       "      <th>Email</th>\n",
       "      <th>Job</th>\n",
       "      <th>IP Address</th>\n",
       "      <th>Language</th>\n",
       "      <th>Purchase Price</th>\n",
       "    </tr>\n",
       "  </thead>\n",
       "  <tbody>\n",
       "    <tr>\n",
       "      <th>1</th>\n",
       "      <td>9374 Jasmine Spurs Suite 508\\nSouth John, TN 84355-4179</td>\n",
       "      <td>28 rn</td>\n",
       "      <td>PM</td>\n",
       "      <td>Opera/8.93.(Windows 98; Win 9x 4.90; en-US) Presto/2.9.176 Version/11.00</td>\n",
       "      <td>Fletcher, Richards and Whitaker</td>\n",
       "      <td>3337758169645356</td>\n",
       "      <td>11/18</td>\n",
       "      <td>561</td>\n",
       "      <td>Mastercard</td>\n",
       "      <td>anthony41@reed.com</td>\n",
       "      <td>Drilling engineer</td>\n",
       "      <td>15.160.41.51</td>\n",
       "      <td>fr</td>\n",
       "      <td>70.73</td>\n",
       "    </tr>\n",
       "    <tr>\n",
       "      <th>18</th>\n",
       "      <td>461 Christopher Square\\nWest Michaelchester, CA 08119-1240</td>\n",
       "      <td>17 SB</td>\n",
       "      <td>PM</td>\n",
       "      <td>Mozilla/5.0 (X11; Linux i686; rv:1.9.6.20) Gecko/2015-12-01 10:21:36 Firefox/15.0</td>\n",
       "      <td>Beard, Abbott and Pena</td>\n",
       "      <td>6011350184276270</td>\n",
       "      <td>12/22</td>\n",
       "      <td>767</td>\n",
       "      <td>Mastercard</td>\n",
       "      <td>hannah63@yahoo.com</td>\n",
       "      <td>Photographer</td>\n",
       "      <td>73.250.176.201</td>\n",
       "      <td>el</td>\n",
       "      <td>70.15</td>\n",
       "    </tr>\n",
       "    <tr>\n",
       "      <th>31</th>\n",
       "      <td>USNS Alvarado\\nFPO AA 27052-1231</td>\n",
       "      <td>26 Lh</td>\n",
       "      <td>PM</td>\n",
       "      <td>Opera/8.84.(X11; Linux i686; sl-SI) Presto/2.9.169 Version/10.00</td>\n",
       "      <td>Nicholson Group</td>\n",
       "      <td>4614997834548</td>\n",
       "      <td>03/22</td>\n",
       "      <td>909</td>\n",
       "      <td>Mastercard</td>\n",
       "      <td>ashley12@hotmail.com</td>\n",
       "      <td>Sales executive</td>\n",
       "      <td>94.176.142.201</td>\n",
       "      <td>en</td>\n",
       "      <td>94.14</td>\n",
       "    </tr>\n",
       "    <tr>\n",
       "      <th>35</th>\n",
       "      <td>93392 Webb Gardens Apt. 220\\nLaurabury, AR 99939-7056</td>\n",
       "      <td>37 om</td>\n",
       "      <td>AM</td>\n",
       "      <td>Mozilla/5.0 (Macintosh; U; Intel Mac OS X 10_7_4) AppleWebKit/5340 (KHTML, like Gecko) Chrome/13.0.858.0 Safari/5340</td>\n",
       "      <td>Mora Ltd</td>\n",
       "      <td>6011049630969815</td>\n",
       "      <td>09/16</td>\n",
       "      <td>367</td>\n",
       "      <td>Mastercard</td>\n",
       "      <td>hgonzalez@mcdowell.com</td>\n",
       "      <td>Lecturer, further education</td>\n",
       "      <td>216.23.95.40</td>\n",
       "      <td>zh</td>\n",
       "      <td>97.46</td>\n",
       "    </tr>\n",
       "    <tr>\n",
       "      <th>90</th>\n",
       "      <td>431 Bowen Lights\\nFergusonborough, MH 01362</td>\n",
       "      <td>31 tG</td>\n",
       "      <td>AM</td>\n",
       "      <td>Mozilla/5.0 (Windows NT 5.2; it-IT; rv:1.9.1.20) Gecko/2012-11-11 14:36:03 Firefox/3.6.15</td>\n",
       "      <td>Copeland-Lee</td>\n",
       "      <td>639032576097</td>\n",
       "      <td>06/18</td>\n",
       "      <td>868</td>\n",
       "      <td>Mastercard</td>\n",
       "      <td>nrogers@brown.com</td>\n",
       "      <td>Teacher, English as a foreign language</td>\n",
       "      <td>153.188.13.203</td>\n",
       "      <td>es</td>\n",
       "      <td>78.86</td>\n",
       "    </tr>\n",
       "    <tr>\n",
       "      <th>...</th>\n",
       "      <td>...</td>\n",
       "      <td>...</td>\n",
       "      <td>...</td>\n",
       "      <td>...</td>\n",
       "      <td>...</td>\n",
       "      <td>...</td>\n",
       "      <td>...</td>\n",
       "      <td>...</td>\n",
       "      <td>...</td>\n",
       "      <td>...</td>\n",
       "      <td>...</td>\n",
       "      <td>...</td>\n",
       "      <td>...</td>\n",
       "      <td>...</td>\n",
       "    </tr>\n",
       "    <tr>\n",
       "      <th>9941</th>\n",
       "      <td>43757 Brown Lodge\\nValerieberg, PR 88518</td>\n",
       "      <td>68 DG</td>\n",
       "      <td>AM</td>\n",
       "      <td>Mozilla/5.0 (compatible; MSIE 5.0; Windows NT 5.0; Trident/4.0)</td>\n",
       "      <td>Jones, Williams and Dunn</td>\n",
       "      <td>6011508474487291</td>\n",
       "      <td>04/26</td>\n",
       "      <td>906</td>\n",
       "      <td>Mastercard</td>\n",
       "      <td>christian55@gmail.com</td>\n",
       "      <td>Secondary school teacher</td>\n",
       "      <td>216.118.235.145</td>\n",
       "      <td>fr</td>\n",
       "      <td>60.03</td>\n",
       "    </tr>\n",
       "    <tr>\n",
       "      <th>9948</th>\n",
       "      <td>95544 Johnson Isle Suite 939\\nMichaelberg, RI 33033-9231</td>\n",
       "      <td>91 bW</td>\n",
       "      <td>AM</td>\n",
       "      <td>Opera/8.36.(X11; Linux x86_64; sl-SI) Presto/2.9.182 Version/12.00</td>\n",
       "      <td>Fox-Peterson</td>\n",
       "      <td>4762924304307</td>\n",
       "      <td>03/17</td>\n",
       "      <td>567</td>\n",
       "      <td>Mastercard</td>\n",
       "      <td>haleybenjamin@gmail.com</td>\n",
       "      <td>Structural engineer</td>\n",
       "      <td>120.36.140.58</td>\n",
       "      <td>en</td>\n",
       "      <td>71.89</td>\n",
       "    </tr>\n",
       "    <tr>\n",
       "      <th>9954</th>\n",
       "      <td>051 Samantha Wells Apt. 328\\nScottborough, OR 47183</td>\n",
       "      <td>11 vG</td>\n",
       "      <td>AM</td>\n",
       "      <td>Mozilla/5.0 (Macintosh; U; PPC Mac OS X 10_8_2 rv:5.0; en-US) AppleWebKit/535.27.1 (KHTML, like Gecko) Version/5.0.3 Safari/535.27.1</td>\n",
       "      <td>Mendoza, Zimmerman and Reilly</td>\n",
       "      <td>30232295374907</td>\n",
       "      <td>05/21</td>\n",
       "      <td>762</td>\n",
       "      <td>Mastercard</td>\n",
       "      <td>brownamy@perkins.com</td>\n",
       "      <td>Presenter, broadcasting</td>\n",
       "      <td>61.97.84.101</td>\n",
       "      <td>it</td>\n",
       "      <td>87.15</td>\n",
       "    </tr>\n",
       "    <tr>\n",
       "      <th>9981</th>\n",
       "      <td>087 Larson Roads Apt. 587\\nRicestad, WI 98077-7330</td>\n",
       "      <td>95 Kw</td>\n",
       "      <td>AM</td>\n",
       "      <td>Opera/9.63.(Windows NT 5.01; en-US) Presto/2.9.188 Version/12.00</td>\n",
       "      <td>Ortiz, Schultz and Adams</td>\n",
       "      <td>4690863684605</td>\n",
       "      <td>01/19</td>\n",
       "      <td>695</td>\n",
       "      <td>Mastercard</td>\n",
       "      <td>laurenbennett@richards.com</td>\n",
       "      <td>Environmental education officer</td>\n",
       "      <td>106.21.237.73</td>\n",
       "      <td>pt</td>\n",
       "      <td>63.61</td>\n",
       "    </tr>\n",
       "    <tr>\n",
       "      <th>9987</th>\n",
       "      <td>2754 Klein Mission\\nJohnsonview, PA 64925-9624</td>\n",
       "      <td>65 Fg</td>\n",
       "      <td>PM</td>\n",
       "      <td>Opera/9.26.(Windows CE; sl-SI) Presto/2.9.188 Version/12.00</td>\n",
       "      <td>Curtis LLC</td>\n",
       "      <td>180027305702263</td>\n",
       "      <td>12/24</td>\n",
       "      <td>865</td>\n",
       "      <td>Mastercard</td>\n",
       "      <td>denisehamilton@novak.biz</td>\n",
       "      <td>Primary school teacher</td>\n",
       "      <td>164.39.190.217</td>\n",
       "      <td>es</td>\n",
       "      <td>60.83</td>\n",
       "    </tr>\n",
       "  </tbody>\n",
       "</table></div>"
      ],
      "text/plain": [
       "                                                Address    Lot AM or PM  \\\n",
       "1     9374 Jasmine Spurs Suite 508\\nSouth John, TN 8...  28 rn       PM   \n",
       "18    461 Christopher Square\\nWest Michaelchester, C...  17 SB       PM   \n",
       "31                     USNS Alvarado\\nFPO AA 27052-1231  26 Lh       PM   \n",
       "35    93392 Webb Gardens Apt. 220\\nLaurabury, AR 999...  37 om       AM   \n",
       "90          431 Bowen Lights\\nFergusonborough, MH 01362  31 tG       AM   \n",
       "...                                                 ...    ...      ...   \n",
       "9941           43757 Brown Lodge\\nValerieberg, PR 88518  68 DG       AM   \n",
       "9948  95544 Johnson Isle Suite 939\\nMichaelberg, RI ...  91 bW       AM   \n",
       "9954  051 Samantha Wells Apt. 328\\nScottborough, OR ...  11 vG       AM   \n",
       "9981  087 Larson Roads Apt. 587\\nRicestad, WI 98077-...  95 Kw       AM   \n",
       "9987     2754 Klein Mission\\nJohnsonview, PA 64925-9624  65 Fg       PM   \n",
       "\n",
       "                                           Browser Info  \\\n",
       "1     Opera/8.93.(Windows 98; Win 9x 4.90; en-US) Pr...   \n",
       "18    Mozilla/5.0 (X11; Linux i686; rv:1.9.6.20) Gec...   \n",
       "31    Opera/8.84.(X11; Linux i686; sl-SI) Presto/2.9...   \n",
       "35    Mozilla/5.0 (Macintosh; U; Intel Mac OS X 10_7...   \n",
       "90    Mozilla/5.0 (Windows NT 5.2; it-IT; rv:1.9.1.2...   \n",
       "...                                                 ...   \n",
       "9941  Mozilla/5.0 (compatible; MSIE 5.0; Windows NT ...   \n",
       "9948  Opera/8.36.(X11; Linux x86_64; sl-SI) Presto/2...   \n",
       "9954  Mozilla/5.0 (Macintosh; U; PPC Mac OS X 10_8_2...   \n",
       "9981  Opera/9.63.(Windows NT 5.01; en-US) Presto/2.9...   \n",
       "9987  Opera/9.26.(Windows CE; sl-SI) Presto/2.9.188 ...   \n",
       "\n",
       "                              Company       Credit Card CC Exp Date  \\\n",
       "1     Fletcher, Richards and Whitaker  3337758169645356       11/18   \n",
       "18             Beard, Abbott and Pena  6011350184276270       12/22   \n",
       "31                    Nicholson Group     4614997834548       03/22   \n",
       "35                           Mora Ltd  6011049630969815       09/16   \n",
       "90                       Copeland-Lee      639032576097       06/18   \n",
       "...                               ...               ...         ...   \n",
       "9941         Jones, Williams and Dunn  6011508474487291       04/26   \n",
       "9948                     Fox-Peterson     4762924304307       03/17   \n",
       "9954    Mendoza, Zimmerman and Reilly    30232295374907       05/21   \n",
       "9981         Ortiz, Schultz and Adams     4690863684605       01/19   \n",
       "9987                       Curtis LLC   180027305702263       12/24   \n",
       "\n",
       "      CC Security Code CC Provider                       Email  \\\n",
       "1                  561  Mastercard          anthony41@reed.com   \n",
       "18                 767  Mastercard          hannah63@yahoo.com   \n",
       "31                 909  Mastercard        ashley12@hotmail.com   \n",
       "35                 367  Mastercard      hgonzalez@mcdowell.com   \n",
       "90                 868  Mastercard           nrogers@brown.com   \n",
       "...                ...         ...                         ...   \n",
       "9941               906  Mastercard       christian55@gmail.com   \n",
       "9948               567  Mastercard     haleybenjamin@gmail.com   \n",
       "9954               762  Mastercard        brownamy@perkins.com   \n",
       "9981               695  Mastercard  laurenbennett@richards.com   \n",
       "9987               865  Mastercard    denisehamilton@novak.biz   \n",
       "\n",
       "                                         Job       IP Address Language  \\\n",
       "1                          Drilling engineer     15.160.41.51       fr   \n",
       "18                              Photographer   73.250.176.201       el   \n",
       "31                           Sales executive   94.176.142.201       en   \n",
       "35               Lecturer, further education     216.23.95.40       zh   \n",
       "90    Teacher, English as a foreign language   153.188.13.203       es   \n",
       "...                                      ...              ...      ...   \n",
       "9941                Secondary school teacher  216.118.235.145       fr   \n",
       "9948                     Structural engineer    120.36.140.58       en   \n",
       "9954                 Presenter, broadcasting     61.97.84.101       it   \n",
       "9981         Environmental education officer    106.21.237.73       pt   \n",
       "9987                  Primary school teacher   164.39.190.217       es   \n",
       "\n",
       "      Purchase Price  \n",
       "1              70.73  \n",
       "18             70.15  \n",
       "31             94.14  \n",
       "35             97.46  \n",
       "90             78.86  \n",
       "...              ...  \n",
       "9941           60.03  \n",
       "9948           71.89  \n",
       "9954           87.15  \n",
       "9981           63.61  \n",
       "9987           60.83  \n",
       "\n",
       "[405 rows x 14 columns]"
      ]
     },
     "execution_count": 18,
     "metadata": {},
     "output_type": "execute_result"
    }
   ],
   "source": [
    "dt[(dt['CC Provider']=='Mastercard') & (dt['Purchase Price']>50)]"
   ]
  },
  {
   "cell_type": "code",
   "execution_count": 19,
   "id": "c838f46e",
   "metadata": {},
   "outputs": [
    {
     "data": {
      "text/plain": [
       "405"
      ]
     },
     "execution_count": 19,
     "metadata": {},
     "output_type": "execute_result"
    }
   ],
   "source": [
    "len(dt[(dt['CC Provider']=='Mastercard') & (dt['Purchase Price']>50)])"
   ]
  },
  {
   "cell_type": "markdown",
   "id": "1d66c3fd",
   "metadata": {},
   "source": [
    "<h3>Q5) what is the most time of the day AM or PM?"
   ]
  },
  {
   "cell_type": "code",
   "execution_count": 20,
   "id": "d5f16ff8",
   "metadata": {},
   "outputs": [
    {
     "data": {
      "text/plain": [
       "PM    5068\n",
       "AM    4932\n",
       "Name: AM or PM, dtype: int64"
      ]
     },
     "execution_count": 20,
     "metadata": {},
     "output_type": "execute_result"
    }
   ],
   "source": [
    "dt['AM or PM'].value_counts()"
   ]
  },
  {
   "cell_type": "code",
   "execution_count": 21,
   "id": "4b90c76c",
   "metadata": {},
   "outputs": [
    {
     "data": {
      "image/png": "[encoded data removed]",
      "text/plain": [
       "<Figure size 720x360 with 1 Axes>"
      ]
     },
     "metadata": {
      "needs_background": "light"
     },
     "output_type": "display_data"
    }
   ],
   "source": [
    "plt.figure(figsize=(10,5))\n",
    "sns.countplot(x='AM or PM',data=dt)\n",
    "plt.xlabel('AM or PM')\n",
    "plt.show()"
   ]
  },
  {
   "cell_type": "markdown",
   "id": "9c48b77b",
   "metadata": {},
   "source": [
    "<h3>Q6) How much is the purchase in the morning and in the evening ?"
   ]
  },
  {
   "cell_type": "code",
   "execution_count": 22,
   "id": "7745f3c2",
   "metadata": {},
   "outputs": [
    {
     "data": {
      "text/plain": [
       "247519.87"
      ]
     },
     "execution_count": 22,
     "metadata": {},
     "output_type": "execute_result"
    }
   ],
   "source": [
    "dt[dt['AM or PM']=='AM'].sum()['Purchase Price']"
   ]
  },
  {
   "cell_type": "code",
   "execution_count": 23,
   "id": "6a924088",
   "metadata": {},
   "outputs": [
    {
     "data": {
      "text/plain": [
       "255953.15000000002"
      ]
     },
     "execution_count": 23,
     "metadata": {},
     "output_type": "execute_result"
    }
   ],
   "source": [
    "dt[dt['AM or PM']=='PM'].sum()['Purchase Price']"
   ]
  },
  {
   "cell_type": "markdown",
   "id": "d01706cb",
   "metadata": {},
   "source": [
    "<h3>Q7) How many people have a credit card that expires in 2022?"
   ]
  },
  {
   "cell_type": "code",
   "execution_count": 24,
   "id": "3232e47d",
   "metadata": {},
   "outputs": [
    {
     "data": {
      "text/plain": [
       "Index(['Address', 'Lot', 'AM or PM', 'Browser Info', 'Company', 'Credit Card',\n",
       "       'CC Exp Date', 'CC Security Code', 'CC Provider', 'Email', 'Job',\n",
       "       'IP Address', 'Language', 'Purchase Price'],\n",
       "      dtype='object')"
      ]
     },
     "execution_count": 24,
     "metadata": {},
     "output_type": "execute_result"
    }
   ],
   "source": [
    "dt.columns"
   ]
  },
  {
   "cell_type": "code",
   "execution_count": 25,
   "id": "f0d2d5b0",
   "metadata": {},
   "outputs": [],
   "source": [
    "date = dt[\"CC Exp Date\"].str.split(\"/\",1,expand=True)"
   ]
  },
  {
   "cell_type": "code",
   "execution_count": 26,
   "id": "3cd9ccb3",
   "metadata": {},
   "outputs": [
    {
     "data": {
      "text/plain": [
       "0    996\n",
       "1    996\n",
       "dtype: int64"
      ]
     },
     "execution_count": 26,
     "metadata": {},
     "output_type": "execute_result"
    }
   ],
   "source": [
    "date[date[1]=='22'].count()"
   ]
  },
  {
   "cell_type": "code",
   "execution_count": 27,
   "id": "ab00dd44",
   "metadata": {},
   "outputs": [
    {
     "data": {
      "text/plain": [
       "996"
      ]
     },
     "execution_count": 27,
     "metadata": {},
     "output_type": "execute_result"
    }
   ],
   "source": [
    "#or\n",
    "len(date[date[1]=='22'])"
   ]
  },
  {
   "cell_type": "markdown",
   "id": "bbc456da",
   "metadata": {},
   "source": [
    "<h3>Q8) Summarizing Purchase Price based on CC Providers and Language"
   ]
  },
  {
   "cell_type": "code",
   "execution_count": 28,
   "id": "a609cb32",
   "metadata": {},
   "outputs": [],
   "source": [
    "lplot = pd.crosstab(dt['Language'], dt['CC Provider'], values = dt['Purchase Price'], aggfunc = 'sum')"
   ]
  },
  {
   "cell_type": "code",
   "execution_count": 29,
   "id": "c268a55e",
   "metadata": {
    "scrolled": true
   },
   "outputs": [
    {
     "data": {
      "image/png": "[encoded data removed]",
      "text/plain": [
       "<Figure size 1440x720 with 1 Axes>"
      ]
     },
     "metadata": {
      "needs_background": "light"
     },
     "output_type": "display_data"
    }
   ],
   "source": [
    "lplot.plot(kind='bar',figsize=(20,10))\n",
    "plt.xticks(rotation=0)\n",
    "plt.show()"
   ]
  },
  {
   "cell_type": "markdown",
   "id": "88381c9c",
   "metadata": {},
   "source": [
    "<h3>Q9) what is the most browser to use ?"
   ]
  },
  {
   "cell_type": "code",
   "execution_count": 30,
   "id": "bad9a4f0",
   "metadata": {},
   "outputs": [
    {
     "data": {
      "text/plain": [
       "<AxesSubplot:>"
      ]
     },
     "execution_count": 30,
     "metadata": {},
     "output_type": "execute_result"
    },
    {
     "data": {
      "image/png": "[encoded data removed]",
      "text/plain": [
       "<Figure size 432x288 with 1 Axes>"
      ]
     },
     "metadata": {
      "needs_background": "light"
     },
     "output_type": "display_data"
    }
   ],
   "source": [
    "br=dt['Browser Info'].str.split('/',expand=True)\n",
    "br[0].value_counts().plot(kind='bar')"
   ]
  },
  {
   "cell_type": "code",
   "execution_count": 31,
   "id": "7883004c",
   "metadata": {
    "scrolled": false
   },
   "outputs": [
    {
     "data": {
      "text/plain": [
       "<AxesSubplot:ylabel='0'>"
      ]
     },
     "execution_count": 31,
     "metadata": {},
     "output_type": "execute_result"
    },
    {
     "data": {
      "image/png": "[encoded data removed]",
      "text/plain": [
       "<Figure size 432x288 with 1 Axes>"
      ]
     },
     "metadata": {},
     "output_type": "display_data"
    }
   ],
   "source": [
    "br[0].value_counts().plot(kind='pie',autopct='%1.0f%%')"
   ]
  }
 ],
 "metadata": {
  "kernelspec": {
   "display_name": "Python 3 (ipykernel)",
   "language": "python",
   "name": "python3"
  },
  "language_info": {
   "codemirror_mode": {
    "name": "ipython",
    "version": 3
   },
   "file_extension": ".py",
   "mimetype": "text/x-python",
   "name": "python",
   "nbconvert_exporter": "python",
   "pygments_lexer": "ipython3",
   "version": "3.8.12"
  },
  "varInspector": {
   "cols": {
    "lenName": 16,
    "lenType": 16,
    "lenVar": 40
   },
   "kernels_config": {
    "python": {
     "delete_cmd_postfix": "",
     "delete_cmd_prefix": "del ",
     "library": "var_list.py",
     "varRefreshCmd": "print(var_dic_list())"
    },
    "r": {
     "delete_cmd_postfix": ") ",
     "delete_cmd_prefix": "rm(",
     "library": "var_list.r",
     "varRefreshCmd": "cat(var_dic_list()) "
    }
   },
   "types_to_exclude": [
    "module",
    "function",
    "builtin_function_or_method",
    "instance",
    "_Feature"
   ],
   "window_display": false
  }
 },
 "nbformat": 4,
 "nbformat_minor": 5
}
